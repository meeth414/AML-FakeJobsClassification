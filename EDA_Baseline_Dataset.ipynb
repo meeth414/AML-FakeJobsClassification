{
  "cells": [
    {
      "cell_type": "markdown",
      "metadata": {
        "id": "6klMgapLtWxM"
      },
      "source": [
        "**Notes PLEASE READ:**\n",
        "*   Two starting files \"fj.csv\" and \"fj_no_profile.csv\" are in the shared folder\n",
        "*   If you want to use data that included the company profile from the beginning (including in word counts, char counts, etc.) use the \"fj.csv\" otherwise use the \"fj_no_profile\" file\n",
        "*   word counts, character counts, and stopwords counts columns added (counted based on a combined job_posting column)\n",
        "*   Added \"NAN Columns\" column, which counts how many features were blank or NaN for each row\n",
        "*   Set up binary columns for if the unstrucutred columns were na or not na (1 or 0)\n",
        "*   Then dropped all the unstructured columns\n",
        "*   one-hot encode all the categorical variables\n",
        "*   Pipeline is set up and works for a basic logistic regression, without any tuning pretty much. Just did this to show a working example of how to use the pipeline\n",
        "*   **You guys can start at the \"Data to Split and Pipeline\" section. Do not need to run the other code blocks, except the one with all the imports**\n",
        "\n",
        "\n",
        "\n",
        "\n",
        "\n"
      ]
    },
    {
      "cell_type": "code",
      "execution_count": null,
      "metadata": {
        "colab": {
          "base_uri": "https://localhost:8080/",
          "height": 373
        },
        "id": "QmNOMxo9rjty",
        "outputId": "6ecd3ed7-6e81-4a85-ad25-164ab2ae7147"
      },
      "outputs": [
        {
          "output_type": "error",
          "ename": "ModuleNotFoundError",
          "evalue": "ignored",
          "traceback": [
            "\u001b[0;31m---------------------------------------------------------------------------\u001b[0m",
            "\u001b[0;31mModuleNotFoundError\u001b[0m                       Traceback (most recent call last)",
            "\u001b[0;32m<ipython-input-1-fa3d33d97893>\u001b[0m in \u001b[0;36m<module>\u001b[0;34m\u001b[0m\n\u001b[1;32m     13\u001b[0m \u001b[0;32mfrom\u001b[0m \u001b[0mimblearn\u001b[0m\u001b[0;34m.\u001b[0m\u001b[0mover_sampling\u001b[0m \u001b[0;32mimport\u001b[0m \u001b[0mSMOTENC\u001b[0m\u001b[0;34m\u001b[0m\u001b[0;34m\u001b[0m\u001b[0m\n\u001b[1;32m     14\u001b[0m \u001b[0;32mfrom\u001b[0m \u001b[0msklearn\u001b[0m\u001b[0;34m.\u001b[0m\u001b[0mmetrics\u001b[0m \u001b[0;32mimport\u001b[0m \u001b[0mclassification_report\u001b[0m\u001b[0;34m\u001b[0m\u001b[0;34m\u001b[0m\u001b[0m\n\u001b[0;32m---> 15\u001b[0;31m \u001b[0;32mfrom\u001b[0m \u001b[0mspellchecker\u001b[0m \u001b[0;32mimport\u001b[0m \u001b[0mSpellChecker\u001b[0m\u001b[0;34m\u001b[0m\u001b[0;34m\u001b[0m\u001b[0m\n\u001b[0m\u001b[1;32m     16\u001b[0m \u001b[0mnltk\u001b[0m\u001b[0;34m.\u001b[0m\u001b[0mdownload\u001b[0m\u001b[0;34m(\u001b[0m\u001b[0;34m'stopwords'\u001b[0m\u001b[0;34m)\u001b[0m\u001b[0;34m\u001b[0m\u001b[0;34m\u001b[0m\u001b[0m\n\u001b[1;32m     17\u001b[0m \u001b[0mnltk\u001b[0m\u001b[0;34m.\u001b[0m\u001b[0mdownload\u001b[0m\u001b[0;34m(\u001b[0m\u001b[0;34m'punkt'\u001b[0m\u001b[0;34m)\u001b[0m\u001b[0;34m\u001b[0m\u001b[0;34m\u001b[0m\u001b[0m\n",
            "\u001b[0;31mModuleNotFoundError\u001b[0m: No module named 'spellchecker'",
            "",
            "\u001b[0;31m---------------------------------------------------------------------------\u001b[0;32m\nNOTE: If your import is failing due to a missing package, you can\nmanually install dependencies using either !pip or !apt.\n\nTo view examples of installing some common dependencies, click the\n\"Open Examples\" button below.\n\u001b[0;31m---------------------------------------------------------------------------\u001b[0m\n"
          ],
          "errorDetails": {
            "actions": [
              {
                "action": "open_url",
                "actionText": "Open Examples",
                "url": "/notebooks/snippets/importing_libraries.ipynb"
              }
            ]
          }
        }
      ],
      "source": [
        "import pandas as pd\n",
        "from textblob import TextBlob\n",
        "import numpy as np\n",
        "from nltk import word_tokenize\n",
        "from nltk.corpus import stopwords\n",
        "from nltk.tokenize import word_tokenize\n",
        "import nltk\n",
        "from sklearn.model_selection import train_test_split\n",
        "from imblearn.over_sampling import SMOTE\n",
        "from imblearn.pipeline import Pipeline\n",
        "from sklearn.preprocessing import StandardScaler\n",
        "from sklearn.linear_model import LogisticRegression\n",
        "from imblearn.over_sampling import SMOTENC\n",
        "from sklearn.metrics import classification_report\n",
        "from spellchecker import SpellChecker\n",
        "nltk.download('stopwords')\n",
        "nltk.download('punkt')"
      ]
    },
    {
      "cell_type": "code",
      "execution_count": null,
      "metadata": {
        "colab": {
          "base_uri": "https://localhost:8080/"
        },
        "id": "JRWv3yJ8rpMp",
        "outputId": "1482a6f8-24c8-42ca-eef1-fce62268500f"
      },
      "outputs": [
        {
          "name": "stdout",
          "output_type": "stream",
          "text": [
            "Mounted at /content/drive\n"
          ]
        }
      ],
      "source": [
        "from google.colab import drive\n",
        "drive.mount('/content/drive')"
      ]
    },
    {
      "cell_type": "code",
      "execution_count": null,
      "metadata": {
        "id": "EUF3CUEn9Gd7"
      },
      "outputs": [],
      "source": [
        "fake_jobs = pd.read_csv('fake_job_postings.csv')"
      ]
    },
    {
      "cell_type": "code",
      "execution_count": null,
      "metadata": {
        "id": "h3o4LJd1rrMO"
      },
      "outputs": [],
      "source": [
        "fake_jobs = pd.read_csv('fake_job_postings.csv')\n",
        "fake_jobs['NAN Columns'] = fake_jobs.isnull().sum(axis=1)\n",
        "fake_jobs['title_na'] = fake_jobs['title'].isnull()*1\n",
        "fake_jobs['company_profile_na'] = fake_jobs['company_profile'].isnull()*1\n",
        "fake_jobs['description_na'] = fake_jobs['description'].isnull()*1\n",
        "fake_jobs['requirements_na'] = fake_jobs['requirements'].isnull()*1\n",
        "fake_jobs['benefits_na'] = fake_jobs['benefits'].isnull()*1\n",
        "#fake_jobs.head()"
      ]
    },
    {
      "cell_type": "code",
      "execution_count": null,
      "metadata": {
        "colab": {
          "base_uri": "https://localhost:8080/",
          "height": 646
        },
        "id": "PViAAPRJxwZ_",
        "outputId": "7f59df9a-2b08-4b94-ec74-ce5c378ada5e"
      },
      "outputs": [
        {
          "output_type": "execute_result",
          "data": {
            "text/plain": [
              "   job_id                                      title            location  \\\n",
              "0       1                           Marketing Intern    US, NY, New York   \n",
              "1       2  Customer Service - Cloud Video Production      NZ, , Auckland   \n",
              "2       3    Commissioning Machinery Assistant (CMA)       US, IA, Wever   \n",
              "3       4          Account Executive - Washington DC  US, DC, Washington   \n",
              "4       5                        Bill Review Manager  US, FL, Fort Worth   \n",
              "\n",
              "  department salary_range                                    company_profile  \\\n",
              "0  Marketing      MISSING  We're Food52, and we've created a groundbreaki...   \n",
              "1    Success      MISSING  90 Seconds, the worlds Cloud Video Production ...   \n",
              "2    MISSING      MISSING  Valor Services provides Workforce Solutions th...   \n",
              "3      Sales      MISSING  Our passion for improving quality of life thro...   \n",
              "4    MISSING      MISSING  SpotSource Solutions LLC is a Global Human Cap...   \n",
              "\n",
              "                                         description  \\\n",
              "0  Food52, a fast-growing, James Beard Award-winn...   \n",
              "1  Organised - Focused - Vibrant - Awesome!Do you...   \n",
              "2  Our client, located in Houston, is actively se...   \n",
              "3  THE COMPANY: ESRI – Environmental Systems Rese...   \n",
              "4  JOB TITLE: Itemization Review ManagerLOCATION:...   \n",
              "\n",
              "                                        requirements  \\\n",
              "0  Experience with content management systems a m...   \n",
              "1  What we expect from you:Your key responsibilit...   \n",
              "2  Implement pre-commissioning and commissioning ...   \n",
              "3  EDUCATION: Bachelor’s or Master’s in GIS, busi...   \n",
              "4  QUALIFICATIONS:RN license in the State of Texa...   \n",
              "\n",
              "                                            benefits  telecommuting  ...  \\\n",
              "0                                            MISSING              0  ...   \n",
              "1  What you will get from usThrough being part of...              0  ...   \n",
              "2                                            MISSING              0  ...   \n",
              "3  Our culture is anything but corporate—we have ...              0  ...   \n",
              "4                              Full Benefits Offered              0  ...   \n",
              "\n",
              "   required_education                   industry              function  \\\n",
              "0             MISSING                    MISSING             Marketing   \n",
              "1             MISSING  Marketing and Advertising      Customer Service   \n",
              "2             MISSING                    MISSING               MISSING   \n",
              "3   Bachelor's Degree          Computer Software                 Sales   \n",
              "4   Bachelor's Degree     Hospital & Health Care  Health Care Provider   \n",
              "\n",
              "  fraudulent NAN Columns title_na company_profile_na  description_na  \\\n",
              "0          0           4        0                  0               0   \n",
              "1          0           2        0                  0               0   \n",
              "2          0           8        0                  0               0   \n",
              "3          0           1        0                  0               0   \n",
              "4          0           2        0                  0               0   \n",
              "\n",
              "   requirements_na  benefits_na  \n",
              "0                0            1  \n",
              "1                0            0  \n",
              "2                0            1  \n",
              "3                0            0  \n",
              "4                0            0  \n",
              "\n",
              "[5 rows x 24 columns]"
            ],
            "text/html": [
              "\n",
              "  <div id=\"df-6c6dc625-f938-4c1b-b352-2905036e7521\">\n",
              "    <div class=\"colab-df-container\">\n",
              "      <div>\n",
              "<style scoped>\n",
              "    .dataframe tbody tr th:only-of-type {\n",
              "        vertical-align: middle;\n",
              "    }\n",
              "\n",
              "    .dataframe tbody tr th {\n",
              "        vertical-align: top;\n",
              "    }\n",
              "\n",
              "    .dataframe thead th {\n",
              "        text-align: right;\n",
              "    }\n",
              "</style>\n",
              "<table border=\"1\" class=\"dataframe\">\n",
              "  <thead>\n",
              "    <tr style=\"text-align: right;\">\n",
              "      <th></th>\n",
              "      <th>job_id</th>\n",
              "      <th>title</th>\n",
              "      <th>location</th>\n",
              "      <th>department</th>\n",
              "      <th>salary_range</th>\n",
              "      <th>company_profile</th>\n",
              "      <th>description</th>\n",
              "      <th>requirements</th>\n",
              "      <th>benefits</th>\n",
              "      <th>telecommuting</th>\n",
              "      <th>...</th>\n",
              "      <th>required_education</th>\n",
              "      <th>industry</th>\n",
              "      <th>function</th>\n",
              "      <th>fraudulent</th>\n",
              "      <th>NAN Columns</th>\n",
              "      <th>title_na</th>\n",
              "      <th>company_profile_na</th>\n",
              "      <th>description_na</th>\n",
              "      <th>requirements_na</th>\n",
              "      <th>benefits_na</th>\n",
              "    </tr>\n",
              "  </thead>\n",
              "  <tbody>\n",
              "    <tr>\n",
              "      <th>0</th>\n",
              "      <td>1</td>\n",
              "      <td>Marketing Intern</td>\n",
              "      <td>US, NY, New York</td>\n",
              "      <td>Marketing</td>\n",
              "      <td>MISSING</td>\n",
              "      <td>We're Food52, and we've created a groundbreaki...</td>\n",
              "      <td>Food52, a fast-growing, James Beard Award-winn...</td>\n",
              "      <td>Experience with content management systems a m...</td>\n",
              "      <td>MISSING</td>\n",
              "      <td>0</td>\n",
              "      <td>...</td>\n",
              "      <td>MISSING</td>\n",
              "      <td>MISSING</td>\n",
              "      <td>Marketing</td>\n",
              "      <td>0</td>\n",
              "      <td>4</td>\n",
              "      <td>0</td>\n",
              "      <td>0</td>\n",
              "      <td>0</td>\n",
              "      <td>0</td>\n",
              "      <td>1</td>\n",
              "    </tr>\n",
              "    <tr>\n",
              "      <th>1</th>\n",
              "      <td>2</td>\n",
              "      <td>Customer Service - Cloud Video Production</td>\n",
              "      <td>NZ, , Auckland</td>\n",
              "      <td>Success</td>\n",
              "      <td>MISSING</td>\n",
              "      <td>90 Seconds, the worlds Cloud Video Production ...</td>\n",
              "      <td>Organised - Focused - Vibrant - Awesome!Do you...</td>\n",
              "      <td>What we expect from you:Your key responsibilit...</td>\n",
              "      <td>What you will get from usThrough being part of...</td>\n",
              "      <td>0</td>\n",
              "      <td>...</td>\n",
              "      <td>MISSING</td>\n",
              "      <td>Marketing and Advertising</td>\n",
              "      <td>Customer Service</td>\n",
              "      <td>0</td>\n",
              "      <td>2</td>\n",
              "      <td>0</td>\n",
              "      <td>0</td>\n",
              "      <td>0</td>\n",
              "      <td>0</td>\n",
              "      <td>0</td>\n",
              "    </tr>\n",
              "    <tr>\n",
              "      <th>2</th>\n",
              "      <td>3</td>\n",
              "      <td>Commissioning Machinery Assistant (CMA)</td>\n",
              "      <td>US, IA, Wever</td>\n",
              "      <td>MISSING</td>\n",
              "      <td>MISSING</td>\n",
              "      <td>Valor Services provides Workforce Solutions th...</td>\n",
              "      <td>Our client, located in Houston, is actively se...</td>\n",
              "      <td>Implement pre-commissioning and commissioning ...</td>\n",
              "      <td>MISSING</td>\n",
              "      <td>0</td>\n",
              "      <td>...</td>\n",
              "      <td>MISSING</td>\n",
              "      <td>MISSING</td>\n",
              "      <td>MISSING</td>\n",
              "      <td>0</td>\n",
              "      <td>8</td>\n",
              "      <td>0</td>\n",
              "      <td>0</td>\n",
              "      <td>0</td>\n",
              "      <td>0</td>\n",
              "      <td>1</td>\n",
              "    </tr>\n",
              "    <tr>\n",
              "      <th>3</th>\n",
              "      <td>4</td>\n",
              "      <td>Account Executive - Washington DC</td>\n",
              "      <td>US, DC, Washington</td>\n",
              "      <td>Sales</td>\n",
              "      <td>MISSING</td>\n",
              "      <td>Our passion for improving quality of life thro...</td>\n",
              "      <td>THE COMPANY: ESRI – Environmental Systems Rese...</td>\n",
              "      <td>EDUCATION: Bachelor’s or Master’s in GIS, busi...</td>\n",
              "      <td>Our culture is anything but corporate—we have ...</td>\n",
              "      <td>0</td>\n",
              "      <td>...</td>\n",
              "      <td>Bachelor's Degree</td>\n",
              "      <td>Computer Software</td>\n",
              "      <td>Sales</td>\n",
              "      <td>0</td>\n",
              "      <td>1</td>\n",
              "      <td>0</td>\n",
              "      <td>0</td>\n",
              "      <td>0</td>\n",
              "      <td>0</td>\n",
              "      <td>0</td>\n",
              "    </tr>\n",
              "    <tr>\n",
              "      <th>4</th>\n",
              "      <td>5</td>\n",
              "      <td>Bill Review Manager</td>\n",
              "      <td>US, FL, Fort Worth</td>\n",
              "      <td>MISSING</td>\n",
              "      <td>MISSING</td>\n",
              "      <td>SpotSource Solutions LLC is a Global Human Cap...</td>\n",
              "      <td>JOB TITLE: Itemization Review ManagerLOCATION:...</td>\n",
              "      <td>QUALIFICATIONS:RN license in the State of Texa...</td>\n",
              "      <td>Full Benefits Offered</td>\n",
              "      <td>0</td>\n",
              "      <td>...</td>\n",
              "      <td>Bachelor's Degree</td>\n",
              "      <td>Hospital &amp; Health Care</td>\n",
              "      <td>Health Care Provider</td>\n",
              "      <td>0</td>\n",
              "      <td>2</td>\n",
              "      <td>0</td>\n",
              "      <td>0</td>\n",
              "      <td>0</td>\n",
              "      <td>0</td>\n",
              "      <td>0</td>\n",
              "    </tr>\n",
              "  </tbody>\n",
              "</table>\n",
              "<p>5 rows × 24 columns</p>\n",
              "</div>\n",
              "      <button class=\"colab-df-convert\" onclick=\"convertToInteractive('df-6c6dc625-f938-4c1b-b352-2905036e7521')\"\n",
              "              title=\"Convert this dataframe to an interactive table.\"\n",
              "              style=\"display:none;\">\n",
              "        \n",
              "  <svg xmlns=\"http://www.w3.org/2000/svg\" height=\"24px\"viewBox=\"0 0 24 24\"\n",
              "       width=\"24px\">\n",
              "    <path d=\"M0 0h24v24H0V0z\" fill=\"none\"/>\n",
              "    <path d=\"M18.56 5.44l.94 2.06.94-2.06 2.06-.94-2.06-.94-.94-2.06-.94 2.06-2.06.94zm-11 1L8.5 8.5l.94-2.06 2.06-.94-2.06-.94L8.5 2.5l-.94 2.06-2.06.94zm10 10l.94 2.06.94-2.06 2.06-.94-2.06-.94-.94-2.06-.94 2.06-2.06.94z\"/><path d=\"M17.41 7.96l-1.37-1.37c-.4-.4-.92-.59-1.43-.59-.52 0-1.04.2-1.43.59L10.3 9.45l-7.72 7.72c-.78.78-.78 2.05 0 2.83L4 21.41c.39.39.9.59 1.41.59.51 0 1.02-.2 1.41-.59l7.78-7.78 2.81-2.81c.8-.78.8-2.07 0-2.86zM5.41 20L4 18.59l7.72-7.72 1.47 1.35L5.41 20z\"/>\n",
              "  </svg>\n",
              "      </button>\n",
              "      \n",
              "  <style>\n",
              "    .colab-df-container {\n",
              "      display:flex;\n",
              "      flex-wrap:wrap;\n",
              "      gap: 12px;\n",
              "    }\n",
              "\n",
              "    .colab-df-convert {\n",
              "      background-color: #E8F0FE;\n",
              "      border: none;\n",
              "      border-radius: 50%;\n",
              "      cursor: pointer;\n",
              "      display: none;\n",
              "      fill: #1967D2;\n",
              "      height: 32px;\n",
              "      padding: 0 0 0 0;\n",
              "      width: 32px;\n",
              "    }\n",
              "\n",
              "    .colab-df-convert:hover {\n",
              "      background-color: #E2EBFA;\n",
              "      box-shadow: 0px 1px 2px rgba(60, 64, 67, 0.3), 0px 1px 3px 1px rgba(60, 64, 67, 0.15);\n",
              "      fill: #174EA6;\n",
              "    }\n",
              "\n",
              "    [theme=dark] .colab-df-convert {\n",
              "      background-color: #3B4455;\n",
              "      fill: #D2E3FC;\n",
              "    }\n",
              "\n",
              "    [theme=dark] .colab-df-convert:hover {\n",
              "      background-color: #434B5C;\n",
              "      box-shadow: 0px 1px 3px 1px rgba(0, 0, 0, 0.15);\n",
              "      filter: drop-shadow(0px 1px 2px rgba(0, 0, 0, 0.3));\n",
              "      fill: #FFFFFF;\n",
              "    }\n",
              "  </style>\n",
              "\n",
              "      <script>\n",
              "        const buttonEl =\n",
              "          document.querySelector('#df-6c6dc625-f938-4c1b-b352-2905036e7521 button.colab-df-convert');\n",
              "        buttonEl.style.display =\n",
              "          google.colab.kernel.accessAllowed ? 'block' : 'none';\n",
              "\n",
              "        async function convertToInteractive(key) {\n",
              "          const element = document.querySelector('#df-6c6dc625-f938-4c1b-b352-2905036e7521');\n",
              "          const dataTable =\n",
              "            await google.colab.kernel.invokeFunction('convertToInteractive',\n",
              "                                                     [key], {});\n",
              "          if (!dataTable) return;\n",
              "\n",
              "          const docLinkHtml = 'Like what you see? Visit the ' +\n",
              "            '<a target=\"_blank\" href=https://colab.research.google.com/notebooks/data_table.ipynb>data table notebook</a>'\n",
              "            + ' to learn more about interactive tables.';\n",
              "          element.innerHTML = '';\n",
              "          dataTable['output_type'] = 'display_data';\n",
              "          await google.colab.output.renderOutput(dataTable, element);\n",
              "          const docLink = document.createElement('div');\n",
              "          docLink.innerHTML = docLinkHtml;\n",
              "          element.appendChild(docLink);\n",
              "        }\n",
              "      </script>\n",
              "    </div>\n",
              "  </div>\n",
              "  "
            ]
          },
          "metadata": {},
          "execution_count": 5
        }
      ],
      "source": [
        "fake_jobs = fake_jobs.replace(np.nan, 'MISSING')\n",
        "fake_jobs.head()"
      ]
    },
    {
      "cell_type": "code",
      "execution_count": null,
      "metadata": {
        "id": "lWbvZ758rrOo"
      },
      "outputs": [],
      "source": [
        "fj = fake_jobs.copy()\n",
        "fj_no_profile = fake_jobs.copy().drop(columns = 'company_profile')\n",
        "#fj_no_profile.head()"
      ]
    },
    {
      "cell_type": "code",
      "execution_count": null,
      "metadata": {
        "id": "nGJN_YiVtaAR"
      },
      "outputs": [],
      "source": [
        "# defining word counting functions\n",
        "def count_chars(text):\n",
        "    return len(text)\n",
        "def count_words(text):\n",
        "    return len(text.split())\n",
        "def count_stopwords(text):\n",
        "    stop_words = set(stopwords.words('english'))  \n",
        "    word_tokens = word_tokenize(text)\n",
        "    stopwords_x = [w for w in word_tokens if w in stop_words]\n",
        "    return len(stopwords_x)\n",
        "def spellcheck(text):\n",
        "    s = text\n",
        "    wordlist=s.split()\n",
        "    spell = SpellChecker()\n",
        "    amount_miss = len(list(spell.unknown(wordlist)))\n",
        "    return amount_miss"
      ]
    },
    {
      "cell_type": "markdown",
      "metadata": {
        "id": "rbCk-iv2tFcB"
      },
      "source": [
        "**Fake Jobs Full Dataset (called \"fj\")**"
      ]
    },
    {
      "cell_type": "code",
      "execution_count": null,
      "metadata": {
        "colab": {
          "background_save": true
        },
        "id": "xD90GUWDrrQ2"
      },
      "outputs": [],
      "source": [
        "# combining all unstructured data into one column\n",
        "fj['posting'] = fj['title'] + \" \" + fj['department'] + \\\n",
        "             \" \" + fj['company_profile'] + \" \" + \\\n",
        "             fj['description'] + \" \" + \\\n",
        "             fj['requirements'] + \" \" +\\\n",
        "             fj['benefits'] + \" \" +\\\n",
        "             fj['function'] + \" \" +\\\n",
        "             fj['required_experience']+ \" \"+\\\n",
        "             fj[\"required_education\"]+ \" \" +\\\n",
        "             fj[\"industry\"]\n",
        "\n",
        "# lowercase all unstructured data\n",
        "fj['posting'] = fj['posting'].astype(str)\n",
        "fj['posting'] = fj['posting'].str.lower()\n",
        "\n",
        "# adding word and character count columns\n",
        "fj['char_count'] = fj[\"posting\"].apply(lambda x:count_chars(x))\n",
        "fj['word_count'] = fj[\"posting\"].apply(lambda x:count_words(x))\n",
        "fj['stopword_count'] = fj[\"posting\"].apply(lambda x:count_stopwords(x))\n",
        "fj['misspelled_count'] = fj[\"posting\"].apply(lambda x:spellcheck(x))\n",
        "fj['misspelled_percent'] = fj['misspelled_count']/fj['word_count']\n",
        "fj['average_word_length'] = fj['char_count']/fj['word_count']\n",
        "\n",
        "# writing to csv\n",
        "fj.to_csv('fj.csv')"
      ]
    },
    {
      "cell_type": "code",
      "execution_count": null,
      "metadata": {
        "colab": {
          "background_save": true
        },
        "id": "tCOXYZV2usog",
        "outputId": "57480095-9315-4618-9815-9a98092f8147"
      },
      "outputs": [
        {
          "data": {
            "text/html": [
              "\n",
              "  <div id=\"df-f184650d-cc12-43e8-9b56-518a25fb63bb\">\n",
              "    <div class=\"colab-df-container\">\n",
              "      <div>\n",
              "<style scoped>\n",
              "    .dataframe tbody tr th:only-of-type {\n",
              "        vertical-align: middle;\n",
              "    }\n",
              "\n",
              "    .dataframe tbody tr th {\n",
              "        vertical-align: top;\n",
              "    }\n",
              "\n",
              "    .dataframe thead th {\n",
              "        text-align: right;\n",
              "    }\n",
              "</style>\n",
              "<table border=\"1\" class=\"dataframe\">\n",
              "  <thead>\n",
              "    <tr style=\"text-align: right;\">\n",
              "      <th></th>\n",
              "      <th>job_id</th>\n",
              "      <th>telecommuting</th>\n",
              "      <th>has_company_logo</th>\n",
              "      <th>has_questions</th>\n",
              "      <th>NAN Columns</th>\n",
              "      <th>title_na</th>\n",
              "      <th>company_profile_na</th>\n",
              "      <th>description_na</th>\n",
              "      <th>requirements_na</th>\n",
              "      <th>benefits_na</th>\n",
              "      <th>char_count</th>\n",
              "      <th>word_count</th>\n",
              "      <th>stopword_count</th>\n",
              "      <th>misspelled_count</th>\n",
              "      <th>misspelled_percent</th>\n",
              "      <th>average_word_length</th>\n",
              "    </tr>\n",
              "    <tr>\n",
              "      <th>fraudulent</th>\n",
              "      <th></th>\n",
              "      <th></th>\n",
              "      <th></th>\n",
              "      <th></th>\n",
              "      <th></th>\n",
              "      <th></th>\n",
              "      <th></th>\n",
              "      <th></th>\n",
              "      <th></th>\n",
              "      <th></th>\n",
              "      <th></th>\n",
              "      <th></th>\n",
              "      <th></th>\n",
              "      <th></th>\n",
              "      <th></th>\n",
              "      <th></th>\n",
              "    </tr>\n",
              "  </thead>\n",
              "  <tbody>\n",
              "    <tr>\n",
              "      <th>0</th>\n",
              "      <td>8847.490185</td>\n",
              "      <td>0.041319</td>\n",
              "      <td>0.819149</td>\n",
              "      <td>0.502057</td>\n",
              "      <td>3.882979</td>\n",
              "      <td>0.0</td>\n",
              "      <td>0.159927</td>\n",
              "      <td>0.000000</td>\n",
              "      <td>0.149348</td>\n",
              "      <td>0.402375</td>\n",
              "      <td>2768.762607</td>\n",
              "      <td>387.667509</td>\n",
              "      <td>139.214529</td>\n",
              "      <td>61.946338</td>\n",
              "      <td>0.166993</td>\n",
              "      <td>7.276494</td>\n",
              "    </tr>\n",
              "    <tr>\n",
              "      <th>1</th>\n",
              "      <td>10767.831409</td>\n",
              "      <td>0.073903</td>\n",
              "      <td>0.326790</td>\n",
              "      <td>0.288684</td>\n",
              "      <td>4.662818</td>\n",
              "      <td>0.0</td>\n",
              "      <td>0.677829</td>\n",
              "      <td>0.001155</td>\n",
              "      <td>0.177829</td>\n",
              "      <td>0.420323</td>\n",
              "      <td>2149.627021</td>\n",
              "      <td>291.279446</td>\n",
              "      <td>95.122402</td>\n",
              "      <td>46.219400</td>\n",
              "      <td>0.160610</td>\n",
              "      <td>7.369684</td>\n",
              "    </tr>\n",
              "  </tbody>\n",
              "</table>\n",
              "</div>\n",
              "      <button class=\"colab-df-convert\" onclick=\"convertToInteractive('df-f184650d-cc12-43e8-9b56-518a25fb63bb')\"\n",
              "              title=\"Convert this dataframe to an interactive table.\"\n",
              "              style=\"display:none;\">\n",
              "        \n",
              "  <svg xmlns=\"http://www.w3.org/2000/svg\" height=\"24px\"viewBox=\"0 0 24 24\"\n",
              "       width=\"24px\">\n",
              "    <path d=\"M0 0h24v24H0V0z\" fill=\"none\"/>\n",
              "    <path d=\"M18.56 5.44l.94 2.06.94-2.06 2.06-.94-2.06-.94-.94-2.06-.94 2.06-2.06.94zm-11 1L8.5 8.5l.94-2.06 2.06-.94-2.06-.94L8.5 2.5l-.94 2.06-2.06.94zm10 10l.94 2.06.94-2.06 2.06-.94-2.06-.94-.94-2.06-.94 2.06-2.06.94z\"/><path d=\"M17.41 7.96l-1.37-1.37c-.4-.4-.92-.59-1.43-.59-.52 0-1.04.2-1.43.59L10.3 9.45l-7.72 7.72c-.78.78-.78 2.05 0 2.83L4 21.41c.39.39.9.59 1.41.59.51 0 1.02-.2 1.41-.59l7.78-7.78 2.81-2.81c.8-.78.8-2.07 0-2.86zM5.41 20L4 18.59l7.72-7.72 1.47 1.35L5.41 20z\"/>\n",
              "  </svg>\n",
              "      </button>\n",
              "      \n",
              "  <style>\n",
              "    .colab-df-container {\n",
              "      display:flex;\n",
              "      flex-wrap:wrap;\n",
              "      gap: 12px;\n",
              "    }\n",
              "\n",
              "    .colab-df-convert {\n",
              "      background-color: #E8F0FE;\n",
              "      border: none;\n",
              "      border-radius: 50%;\n",
              "      cursor: pointer;\n",
              "      display: none;\n",
              "      fill: #1967D2;\n",
              "      height: 32px;\n",
              "      padding: 0 0 0 0;\n",
              "      width: 32px;\n",
              "    }\n",
              "\n",
              "    .colab-df-convert:hover {\n",
              "      background-color: #E2EBFA;\n",
              "      box-shadow: 0px 1px 2px rgba(60, 64, 67, 0.3), 0px 1px 3px 1px rgba(60, 64, 67, 0.15);\n",
              "      fill: #174EA6;\n",
              "    }\n",
              "\n",
              "    [theme=dark] .colab-df-convert {\n",
              "      background-color: #3B4455;\n",
              "      fill: #D2E3FC;\n",
              "    }\n",
              "\n",
              "    [theme=dark] .colab-df-convert:hover {\n",
              "      background-color: #434B5C;\n",
              "      box-shadow: 0px 1px 3px 1px rgba(0, 0, 0, 0.15);\n",
              "      filter: drop-shadow(0px 1px 2px rgba(0, 0, 0, 0.3));\n",
              "      fill: #FFFFFF;\n",
              "    }\n",
              "  </style>\n",
              "\n",
              "      <script>\n",
              "        const buttonEl =\n",
              "          document.querySelector('#df-f184650d-cc12-43e8-9b56-518a25fb63bb button.colab-df-convert');\n",
              "        buttonEl.style.display =\n",
              "          google.colab.kernel.accessAllowed ? 'block' : 'none';\n",
              "\n",
              "        async function convertToInteractive(key) {\n",
              "          const element = document.querySelector('#df-f184650d-cc12-43e8-9b56-518a25fb63bb');\n",
              "          const dataTable =\n",
              "            await google.colab.kernel.invokeFunction('convertToInteractive',\n",
              "                                                     [key], {});\n",
              "          if (!dataTable) return;\n",
              "\n",
              "          const docLinkHtml = 'Like what you see? Visit the ' +\n",
              "            '<a target=\"_blank\" href=https://colab.research.google.com/notebooks/data_table.ipynb>data table notebook</a>'\n",
              "            + ' to learn more about interactive tables.';\n",
              "          element.innerHTML = '';\n",
              "          dataTable['output_type'] = 'display_data';\n",
              "          await google.colab.output.renderOutput(dataTable, element);\n",
              "          const docLink = document.createElement('div');\n",
              "          docLink.innerHTML = docLinkHtml;\n",
              "          element.appendChild(docLink);\n",
              "        }\n",
              "      </script>\n",
              "    </div>\n",
              "  </div>\n",
              "  "
            ],
            "text/plain": [
              "                  job_id  telecommuting  has_company_logo  has_questions  \\\n",
              "fraudulent                                                                 \n",
              "0            8847.490185       0.041319          0.819149       0.502057   \n",
              "1           10767.831409       0.073903          0.326790       0.288684   \n",
              "\n",
              "            NAN Columns  title_na  company_profile_na  description_na  \\\n",
              "fraudulent                                                              \n",
              "0              3.882979       0.0            0.159927        0.000000   \n",
              "1              4.662818       0.0            0.677829        0.001155   \n",
              "\n",
              "            requirements_na  benefits_na   char_count  word_count  \\\n",
              "fraudulent                                                          \n",
              "0                  0.149348     0.402375  2768.762607  387.667509   \n",
              "1                  0.177829     0.420323  2149.627021  291.279446   \n",
              "\n",
              "            stopword_count  misspelled_count  misspelled_percent  \\\n",
              "fraudulent                                                         \n",
              "0               139.214529         61.946338            0.166993   \n",
              "1                95.122402         46.219400            0.160610   \n",
              "\n",
              "            average_word_length  \n",
              "fraudulent                       \n",
              "0                      7.276494  \n",
              "1                      7.369684  "
            ]
          },
          "execution_count": 42,
          "metadata": {},
          "output_type": "execute_result"
        }
      ],
      "source": [
        "# checking to see if the means are different\n",
        "fj.groupby('fraudulent').mean()"
      ]
    },
    {
      "cell_type": "markdown",
      "metadata": {
        "id": "m5JnVHy0ACtx"
      },
      "source": [
        "**Fake Jobs Dataset without \"company_profile\" (called \"fj\")**"
      ]
    },
    {
      "cell_type": "code",
      "execution_count": null,
      "metadata": {
        "id": "2OrVb516rra0"
      },
      "outputs": [],
      "source": [
        "fj_no_profile['posting'] = fj_no_profile['title'] + \" \" + fj_no_profile['department'] + \\\n",
        "             fj_no_profile['description'] + \" \" + \\\n",
        "             fj_no_profile['requirements'] + \" \" +\\\n",
        "             fj_no_profile['benefits'] + \" \" +\\\n",
        "             fj_no_profile['function'] + \" \" +\\\n",
        "             fj_no_profile['required_experience']+ \" \"+\\\n",
        "             fj_no_profile[\"required_education\"]+ \" \" +\\\n",
        "             fj_no_profile[\"industry\"]\n",
        "\n",
        "# lowercase all unstructured data\n",
        "fj_no_profile['posting'] = fj_no_profile['posting'].astype(str)\n",
        "fj_no_profile['posting'] = fj_no_profile['posting'].str.lower()\n",
        "\n",
        "# adding word and character count columns\n",
        "fj_no_profile['char_count'] = fj_no_profile[\"posting\"].apply(lambda x:count_chars(x))\n",
        "fj_no_profile['word_count'] = fj_no_profile[\"posting\"].apply(lambda x:count_words(x))\n",
        "fj_no_profile['stopword_count'] = fj_no_profile[\"posting\"].apply(lambda x:count_stopwords(x))\n",
        "fj_no_profile['misspelled_count'] = fj_no_profile[\"posting\"].apply(lambda x:spellcheck(x))\n",
        "fj_no_profile['misspelled_percent'] = fj_no_profile['misspelled_count']/fj_no_profile['word_count']\n",
        "fj_no_profile['average_word_length'] = fj_no_profile['char_count']/fj_no_profile['word_count']\n",
        "\n",
        "# writing to csv\n",
        "fj_no_profile.to_csv('fj_no_profile.csv')"
      ]
    },
    {
      "cell_type": "code",
      "source": [
        "# checking to see if the means are different\n",
        "fj.groupby('fraudulent').mean()"
      ],
      "metadata": {
        "colab": {
          "base_uri": "https://localhost:8080/",
          "height": 225
        },
        "id": "ClViJNq_JPrT",
        "outputId": "34b286c4-ba17-40ad-9f5c-fd0e24233bcb"
      },
      "execution_count": null,
      "outputs": [
        {
          "output_type": "execute_result",
          "data": {
            "text/plain": [
              "                  job_id  telecommuting  has_company_logo  has_questions  \\\n",
              "fraudulent                                                                 \n",
              "0            8847.490185       0.041319          0.819149       0.502057   \n",
              "1           10767.831409       0.073903          0.326790       0.288684   \n",
              "\n",
              "            NAN Columns  title_na  company_profile_na  description_na  \\\n",
              "fraudulent                                                              \n",
              "0              3.882979       0.0            0.159927        0.000000   \n",
              "1              4.662818       0.0            0.677829        0.001155   \n",
              "\n",
              "            requirements_na  benefits_na   char_count  word_count  \\\n",
              "fraudulent                                                          \n",
              "0                  0.149348     0.402375  2768.762607  387.667509   \n",
              "1                  0.177829     0.420323  2149.627021  291.279446   \n",
              "\n",
              "            stopword_count  misspelled_count  misspelled_percent  \\\n",
              "fraudulent                                                         \n",
              "0               139.214529         61.946338            0.166993   \n",
              "1                95.122402         46.219400            0.160610   \n",
              "\n",
              "            average_word_length  \n",
              "fraudulent                       \n",
              "0                      7.276494  \n",
              "1                      7.369684  "
            ],
            "text/html": [
              "\n",
              "  <div id=\"df-064f9ba9-2746-4cb1-bbe9-c131decfdc39\">\n",
              "    <div class=\"colab-df-container\">\n",
              "      <div>\n",
              "<style scoped>\n",
              "    .dataframe tbody tr th:only-of-type {\n",
              "        vertical-align: middle;\n",
              "    }\n",
              "\n",
              "    .dataframe tbody tr th {\n",
              "        vertical-align: top;\n",
              "    }\n",
              "\n",
              "    .dataframe thead th {\n",
              "        text-align: right;\n",
              "    }\n",
              "</style>\n",
              "<table border=\"1\" class=\"dataframe\">\n",
              "  <thead>\n",
              "    <tr style=\"text-align: right;\">\n",
              "      <th></th>\n",
              "      <th>job_id</th>\n",
              "      <th>telecommuting</th>\n",
              "      <th>has_company_logo</th>\n",
              "      <th>has_questions</th>\n",
              "      <th>NAN Columns</th>\n",
              "      <th>title_na</th>\n",
              "      <th>company_profile_na</th>\n",
              "      <th>description_na</th>\n",
              "      <th>requirements_na</th>\n",
              "      <th>benefits_na</th>\n",
              "      <th>char_count</th>\n",
              "      <th>word_count</th>\n",
              "      <th>stopword_count</th>\n",
              "      <th>misspelled_count</th>\n",
              "      <th>misspelled_percent</th>\n",
              "      <th>average_word_length</th>\n",
              "    </tr>\n",
              "    <tr>\n",
              "      <th>fraudulent</th>\n",
              "      <th></th>\n",
              "      <th></th>\n",
              "      <th></th>\n",
              "      <th></th>\n",
              "      <th></th>\n",
              "      <th></th>\n",
              "      <th></th>\n",
              "      <th></th>\n",
              "      <th></th>\n",
              "      <th></th>\n",
              "      <th></th>\n",
              "      <th></th>\n",
              "      <th></th>\n",
              "      <th></th>\n",
              "      <th></th>\n",
              "      <th></th>\n",
              "    </tr>\n",
              "  </thead>\n",
              "  <tbody>\n",
              "    <tr>\n",
              "      <th>0</th>\n",
              "      <td>8847.490185</td>\n",
              "      <td>0.041319</td>\n",
              "      <td>0.819149</td>\n",
              "      <td>0.502057</td>\n",
              "      <td>3.882979</td>\n",
              "      <td>0.0</td>\n",
              "      <td>0.159927</td>\n",
              "      <td>0.000000</td>\n",
              "      <td>0.149348</td>\n",
              "      <td>0.402375</td>\n",
              "      <td>2768.762607</td>\n",
              "      <td>387.667509</td>\n",
              "      <td>139.214529</td>\n",
              "      <td>61.946338</td>\n",
              "      <td>0.166993</td>\n",
              "      <td>7.276494</td>\n",
              "    </tr>\n",
              "    <tr>\n",
              "      <th>1</th>\n",
              "      <td>10767.831409</td>\n",
              "      <td>0.073903</td>\n",
              "      <td>0.326790</td>\n",
              "      <td>0.288684</td>\n",
              "      <td>4.662818</td>\n",
              "      <td>0.0</td>\n",
              "      <td>0.677829</td>\n",
              "      <td>0.001155</td>\n",
              "      <td>0.177829</td>\n",
              "      <td>0.420323</td>\n",
              "      <td>2149.627021</td>\n",
              "      <td>291.279446</td>\n",
              "      <td>95.122402</td>\n",
              "      <td>46.219400</td>\n",
              "      <td>0.160610</td>\n",
              "      <td>7.369684</td>\n",
              "    </tr>\n",
              "  </tbody>\n",
              "</table>\n",
              "</div>\n",
              "      <button class=\"colab-df-convert\" onclick=\"convertToInteractive('df-064f9ba9-2746-4cb1-bbe9-c131decfdc39')\"\n",
              "              title=\"Convert this dataframe to an interactive table.\"\n",
              "              style=\"display:none;\">\n",
              "        \n",
              "  <svg xmlns=\"http://www.w3.org/2000/svg\" height=\"24px\"viewBox=\"0 0 24 24\"\n",
              "       width=\"24px\">\n",
              "    <path d=\"M0 0h24v24H0V0z\" fill=\"none\"/>\n",
              "    <path d=\"M18.56 5.44l.94 2.06.94-2.06 2.06-.94-2.06-.94-.94-2.06-.94 2.06-2.06.94zm-11 1L8.5 8.5l.94-2.06 2.06-.94-2.06-.94L8.5 2.5l-.94 2.06-2.06.94zm10 10l.94 2.06.94-2.06 2.06-.94-2.06-.94-.94-2.06-.94 2.06-2.06.94z\"/><path d=\"M17.41 7.96l-1.37-1.37c-.4-.4-.92-.59-1.43-.59-.52 0-1.04.2-1.43.59L10.3 9.45l-7.72 7.72c-.78.78-.78 2.05 0 2.83L4 21.41c.39.39.9.59 1.41.59.51 0 1.02-.2 1.41-.59l7.78-7.78 2.81-2.81c.8-.78.8-2.07 0-2.86zM5.41 20L4 18.59l7.72-7.72 1.47 1.35L5.41 20z\"/>\n",
              "  </svg>\n",
              "      </button>\n",
              "      \n",
              "  <style>\n",
              "    .colab-df-container {\n",
              "      display:flex;\n",
              "      flex-wrap:wrap;\n",
              "      gap: 12px;\n",
              "    }\n",
              "\n",
              "    .colab-df-convert {\n",
              "      background-color: #E8F0FE;\n",
              "      border: none;\n",
              "      border-radius: 50%;\n",
              "      cursor: pointer;\n",
              "      display: none;\n",
              "      fill: #1967D2;\n",
              "      height: 32px;\n",
              "      padding: 0 0 0 0;\n",
              "      width: 32px;\n",
              "    }\n",
              "\n",
              "    .colab-df-convert:hover {\n",
              "      background-color: #E2EBFA;\n",
              "      box-shadow: 0px 1px 2px rgba(60, 64, 67, 0.3), 0px 1px 3px 1px rgba(60, 64, 67, 0.15);\n",
              "      fill: #174EA6;\n",
              "    }\n",
              "\n",
              "    [theme=dark] .colab-df-convert {\n",
              "      background-color: #3B4455;\n",
              "      fill: #D2E3FC;\n",
              "    }\n",
              "\n",
              "    [theme=dark] .colab-df-convert:hover {\n",
              "      background-color: #434B5C;\n",
              "      box-shadow: 0px 1px 3px 1px rgba(0, 0, 0, 0.15);\n",
              "      filter: drop-shadow(0px 1px 2px rgba(0, 0, 0, 0.3));\n",
              "      fill: #FFFFFF;\n",
              "    }\n",
              "  </style>\n",
              "\n",
              "      <script>\n",
              "        const buttonEl =\n",
              "          document.querySelector('#df-064f9ba9-2746-4cb1-bbe9-c131decfdc39 button.colab-df-convert');\n",
              "        buttonEl.style.display =\n",
              "          google.colab.kernel.accessAllowed ? 'block' : 'none';\n",
              "\n",
              "        async function convertToInteractive(key) {\n",
              "          const element = document.querySelector('#df-064f9ba9-2746-4cb1-bbe9-c131decfdc39');\n",
              "          const dataTable =\n",
              "            await google.colab.kernel.invokeFunction('convertToInteractive',\n",
              "                                                     [key], {});\n",
              "          if (!dataTable) return;\n",
              "\n",
              "          const docLinkHtml = 'Like what you see? Visit the ' +\n",
              "            '<a target=\"_blank\" href=https://colab.research.google.com/notebooks/data_table.ipynb>data table notebook</a>'\n",
              "            + ' to learn more about interactive tables.';\n",
              "          element.innerHTML = '';\n",
              "          dataTable['output_type'] = 'display_data';\n",
              "          await google.colab.output.renderOutput(dataTable, element);\n",
              "          const docLink = document.createElement('div');\n",
              "          docLink.innerHTML = docLinkHtml;\n",
              "          element.appendChild(docLink);\n",
              "        }\n",
              "      </script>\n",
              "    </div>\n",
              "  </div>\n",
              "  "
            ]
          },
          "metadata": {},
          "execution_count": 44
        }
      ]
    },
    {
      "cell_type": "code",
      "source": [],
      "metadata": {
        "id": "Hh5Z_L864JrA"
      },
      "execution_count": null,
      "outputs": []
    },
    {
      "cell_type": "markdown",
      "metadata": {
        "id": "JMY1C7k_F5My"
      },
      "source": [
        "**#Augmented Train Test Split USE THIS ONE**"
      ]
    },
    {
      "cell_type": "code",
      "source": [
        "model_data = pd.read_csv('fj.csv', index_col = 0,  encoding='utf-8')\n",
        "\n",
        "indices = model_data.groupby(\"company_profile\").apply(lambda x: [i for i in x.index])\n",
        "indices.reset_index()\n",
        "\n",
        "model_data.drop(['job_id','title','salary_range','description','requirements','benefits','company_profile','posting'], axis = 1, inplace = True)\n",
        "\n",
        "# Get number of unique countries\n",
        "def getCountry(location):\n",
        "  return str(location).split(',')[0]\n",
        "\n",
        "model_data['country'] = model_data['location'].map(getCountry)\n",
        "countries = model_data['country'].value_counts()\n",
        "print('The number of unique values in the \"country\" field is: {}'.format(len(model_data['country'].value_counts())))\n",
        "model_data.drop(columns = 'location', axis = 1, inplace = True)\n",
        "\n",
        "# one-hot encoding categorical variables\n",
        "categorical_cols = ['country', 'department', 'employment_type', 'required_experience', 'required_education', 'industry', 'function'] \n",
        "model_data = pd.get_dummies(model_data, columns = categorical_cols)\n",
        "\n",
        "# splitting data based on company profile\n",
        "y = model_data[\"fraudulent\"]\n",
        "X = model_data.drop('fraudulent', axis = 'columns')\n",
        "\n",
        "indices_tf = y[[i[0]for i in indices]]\n",
        "train_idx, test_idx = train_test_split(indices, stratify = indices_tf, test_size=0.20, random_state = 422)\n",
        "train_idx = np.hstack(train_idx.apply(np.array).values)\n",
        "test_idx = np.hstack(test_idx.apply(np.array).values)\n",
        "\n",
        "train_idx.sort()\n",
        "train_idx\n",
        "\n",
        "X_train = X.loc[train_idx] \n",
        "X_test = X.loc[test_idx]\n",
        "y_train = y[train_idx]\n",
        "y_test = y[test_idx]"
      ],
      "metadata": {
        "colab": {
          "base_uri": "https://localhost:8080/"
        },
        "id": "l0uu7Npo9p4D",
        "outputId": "7fb8f693-638e-47f5-b485-9d7d5035d6a4"
      },
      "execution_count": null,
      "outputs": [
        {
          "output_type": "stream",
          "name": "stdout",
          "text": [
            "The number of unique values in the \"country\" field is: 91\n"
          ]
        }
      ]
    },
    {
      "cell_type": "code",
      "execution_count": null,
      "metadata": {
        "id": "E-tpAUvPglcu"
      },
      "outputs": [],
      "source": [
        "# defining pipeline entries\n",
        "classifier = LogisticRegression(random_state = 420, max_iter=100)\n",
        "smt = SMOTE(random_state=420)\n",
        "\n",
        "# defining the pipeline\n",
        "pipeline = Pipeline(steps = [['smote', smt],['classifier', classifier]])"
      ]
    },
    {
      "cell_type": "code",
      "execution_count": null,
      "metadata": {
        "colab": {
          "base_uri": "https://localhost:8080/"
        },
        "id": "HYWkW3IgohGo",
        "outputId": "7dcd98fe-4728-4569-f204-330ce8960880"
      },
      "outputs": [
        {
          "name": "stderr",
          "output_type": "stream",
          "text": [
            "/usr/local/lib/python3.7/dist-packages/sklearn/linear_model/_logistic.py:818: ConvergenceWarning: lbfgs failed to converge (status=1):\n",
            "STOP: TOTAL NO. of ITERATIONS REACHED LIMIT.\n",
            "\n",
            "Increase the number of iterations (max_iter) or scale the data as shown in:\n",
            "    https://scikit-learn.org/stable/modules/preprocessing.html\n",
            "Please also refer to the documentation for alternative solver options:\n",
            "    https://scikit-learn.org/stable/modules/linear_model.html#logistic-regression\n",
            "  extra_warning_msg=_LOGISTIC_SOLVER_CONVERGENCE_MSG,\n"
          ]
        },
        {
          "name": "stdout",
          "output_type": "stream",
          "text": [
            "              precision    recall  f1-score   support\n",
            "\n",
            "           0       0.98      0.89      0.93      3403\n",
            "           1       0.25      0.73      0.37       173\n",
            "\n",
            "    accuracy                           0.88      3576\n",
            "   macro avg       0.62      0.81      0.65      3576\n",
            "weighted avg       0.95      0.88      0.91      3576\n",
            "\n"
          ]
        }
      ],
      "source": [
        "# fitting the pipeline and printing results\n",
        "pipeline.fit(X_train, y_train)\n",
        "y_hat = pipeline.predict(X_test)\n",
        "print(classification_report(y_test,y_hat))"
      ]
    },
    {
      "cell_type": "markdown",
      "source": [
        "**Code not being used from here down**"
      ],
      "metadata": {
        "id": "tSWzN7uS_O9I"
      }
    },
    {
      "cell_type": "markdown",
      "metadata": {
        "id": "s_SDSlJeA1dU"
      },
      "source": [
        "**Data to Split Original DO NOT USE**"
      ]
    },
    {
      "cell_type": "code",
      "execution_count": null,
      "metadata": {
        "id": "FzMdn74OA0vE",
        "colab": {
          "base_uri": "https://localhost:8080/"
        },
        "outputId": "c96a3079-510b-463e-f3d4-0e5aca2da5a0"
      },
      "outputs": [
        {
          "output_type": "stream",
          "name": "stdout",
          "text": [
            "The number of unique values in the \"country\" field is: 91\n"
          ]
        }
      ],
      "source": [
        "# READ IN DATA (Choose data with profile field or without)\n",
        "model_data_raw = pd.read_csv('fj.csv', index_col = 0,  encoding='utf-8')\n",
        "#model_data_raw = pd.read_csv('fj_no_profile.csv')\n",
        "\n",
        "# creating copy so original can still be accessed\n",
        "model_data = model_data_raw.copy()\n",
        "\n",
        "# droping unstructured columns\n",
        "model_data.drop(['job_id','title','salary_range','description','requirements','benefits','company_profile','posting'], axis = 1, inplace = True)\n",
        "\n",
        "# Get number of unique countries\n",
        "def getCountry(location):\n",
        "  return str(location).split(',')[0]\n",
        "\n",
        "model_data['country'] = model_data['location'].map(getCountry)\n",
        "countries = model_data['country'].value_counts()\n",
        "print('The number of unique values in the \"country\" field is: {}'.format(len(model_data['country'].value_counts())))\n",
        "model_data.drop(columns = 'location', axis = 1, inplace = True)\n",
        "\n",
        "# one-hot encoding categorical variables\n",
        "categorical_cols = ['country', 'department', 'employment_type', 'required_experience', 'required_education', 'industry', 'function'] \n",
        "model_data = pd.get_dummies(model_data, columns = categorical_cols)\n",
        "\n",
        "# splitting data into train and test\n",
        "X = model_data.drop('fraudulent', axis = 'columns')\n",
        "y = model_data['fraudulent']\n",
        "X_train, X_test, y_train, y_test = train_test_split(X, y,\n",
        "                                                    stratify=y, \n",
        "                                                    test_size=0.20,\n",
        "                                                    random_state = 420)"
      ]
    },
    {
      "cell_type": "code",
      "source": [
        "len(train_idx)"
      ],
      "metadata": {
        "colab": {
          "base_uri": "https://localhost:8080/"
        },
        "id": "9Qeq2z719rDk",
        "outputId": "7058ca6d-a803-4135-a3e9-c389f835ad30"
      },
      "execution_count": null,
      "outputs": [
        {
          "output_type": "execute_result",
          "data": {
            "text/plain": [
              "14828"
            ]
          },
          "metadata": {},
          "execution_count": 4
        }
      ]
    },
    {
      "cell_type": "code",
      "source": [
        "len(test_idx)"
      ],
      "metadata": {
        "colab": {
          "base_uri": "https://localhost:8080/"
        },
        "id": "F3bAdqYz9rIT",
        "outputId": "b9df2943-c6af-4499-96c7-ae6917791692"
      },
      "execution_count": null,
      "outputs": [
        {
          "output_type": "execute_result",
          "data": {
            "text/plain": [
              "3052"
            ]
          },
          "metadata": {},
          "execution_count": 5
        }
      ]
    },
    {
      "cell_type": "code",
      "source": [
        "len(model_data)"
      ],
      "metadata": {
        "colab": {
          "base_uri": "https://localhost:8080/"
        },
        "id": "gp0pCb7b9rK6",
        "outputId": "f1a46fa5-a013-4204-b468-f91644ed5b32"
      },
      "execution_count": null,
      "outputs": [
        {
          "output_type": "execute_result",
          "data": {
            "text/plain": [
              "17880"
            ]
          },
          "metadata": {},
          "execution_count": 6
        }
      ]
    },
    {
      "cell_type": "code",
      "source": [
        "len(model_data.columns)"
      ],
      "metadata": {
        "colab": {
          "base_uri": "https://localhost:8080/"
        },
        "id": "kq_1_gSQ9rPb",
        "outputId": "6ccdd725-5d3c-4244-a19b-0969ceb3ff21"
      },
      "execution_count": null,
      "outputs": [
        {
          "output_type": "execute_result",
          "data": {
            "text/plain": [
              "1643"
            ]
          },
          "metadata": {},
          "execution_count": 7
        }
      ]
    },
    {
      "cell_type": "code",
      "execution_count": null,
      "metadata": {
        "colab": {
          "base_uri": "https://localhost:8080/",
          "height": 293
        },
        "id": "ur6N4g4q3mLX",
        "outputId": "b699dcf1-2eb0-4b84-a10e-ded029765ea4"
      },
      "outputs": [
        {
          "data": {
            "text/plain": [
              "<matplotlib.axes._subplots.AxesSubplot at 0x7fb090d16ed0>"
            ]
          },
          "execution_count": 17,
          "metadata": {},
          "output_type": "execute_result"
        },
        {
          "data": {
            "image/png": "[encoded data removed]",
            "text/plain": [
              "<Figure size 432x288 with 1 Axes>"
            ]
          },
          "metadata": {},
          "output_type": "display_data"
        }
      ],
      "source": [
        "model_data.groupby('fraudulent')['word_count'].mean().plot(kind = 'bar')"
      ]
    },
    {
      "cell_type": "code",
      "execution_count": null,
      "metadata": {
        "colab": {
          "base_uri": "https://localhost:8080/",
          "height": 293
        },
        "id": "d-Mpqb1X4cXP",
        "outputId": "7204c99d-d588-42a3-98cf-4f216498cb86"
      },
      "outputs": [
        {
          "data": {
            "text/plain": [
              "<matplotlib.axes._subplots.AxesSubplot at 0x7fb090c68510>"
            ]
          },
          "execution_count": 18,
          "metadata": {},
          "output_type": "execute_result"
        },
        {
          "data": {
            "image/png": "[encoded data removed]",
            "text/plain": [
              "<Figure size 432x288 with 1 Axes>"
            ]
          },
          "metadata": {},
          "output_type": "display_data"
        }
      ],
      "source": [
        "model_data.groupby('fraudulent')['NAN Columns'].mean().plot(kind = 'bar')"
      ]
    }
  ],
  "metadata": {
    "colab": {
      "provenance": []
    },
    "kernelspec": {
      "display_name": "Python 3",
      "name": "python3"
    },
    "language_info": {
      "name": "python"
    }
  },
  "nbformat": 4,
  "nbformat_minor": 0
}