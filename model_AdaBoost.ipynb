{
  "nbformat": 4,
  "nbformat_minor": 0,
  "metadata": {
    "colab": {
      "provenance": []
    },
    "kernelspec": {
      "name": "python3",
      "display_name": "Python 3"
    },
    "language_info": {
      "name": "python"
    }
  },
  "cells": [
    {
      "cell_type": "code",
      "execution_count": 11,
      "metadata": {
        "id": "-exe6IbmFDp8",
        "colab": {
          "base_uri": "https://localhost:8080/"
        },
        "outputId": "5baa0f9d-3ac7-4ef2-adb7-ccaf2ca05b03"
      },
      "outputs": [
        {
          "output_type": "stream",
          "name": "stderr",
          "text": [
            "[nltk_data] Downloading package stopwords to /root/nltk_data...\n",
            "[nltk_data]   Package stopwords is already up-to-date!\n",
            "[nltk_data] Downloading package punkt to /root/nltk_data...\n",
            "[nltk_data]   Package punkt is already up-to-date!\n"
          ]
        }
      ],
      "source": [
        "import pandas as pd\n",
        "from textblob import TextBlob\n",
        "import numpy as np\n",
        "from nltk import word_tokenize\n",
        "from nltk.corpus import stopwords\n",
        "from nltk.tokenize import word_tokenize\n",
        "import nltk\n",
        "from sklearn.model_selection import train_test_split\n",
        "from imblearn.over_sampling import SMOTE\n",
        "from imblearn.pipeline import Pipeline\n",
        "from sklearn.preprocessing import StandardScaler\n",
        "from imblearn.over_sampling import SMOTENC\n",
        "from sklearn.metrics import classification_report\n",
        "from sklearn.tree import DecisionTreeClassifier\n",
        "from sklearn.isotonic import IsotonicRegression\n",
        "import matplotlib.pyplot as plt\n",
        "from sklearn.metrics import RocCurveDisplay\n",
        "# import ml_insights as mli\n",
        "\n",
        "\n",
        "from sklearn.model_selection import (train_test_split,GridSearchCV)\n",
        "from sklearn.metrics import (accuracy_score,roc_auc_score)\n",
        "from sklearn.ensemble import (RandomForestClassifier,GradientBoostingClassifier,AdaBoostClassifier)\n",
        "from sklearn.ensemble import RandomForestClassifier, BaggingClassifier\n",
        "from sklearn.metrics import confusion_matrix\n",
        "\n",
        "nltk.download('stopwords')\n",
        "nltk.download('punkt')\n",
        "import warnings\n",
        "warnings.filterwarnings(\"ignore\")\n",
        "%matplotlib inline"
      ]
    },
    {
      "cell_type": "code",
      "source": [
        "from google.colab import drive\n",
        "drive.mount('/content/drive')"
      ],
      "metadata": {
        "id": "GlMC3XH_FGFo",
        "colab": {
          "base_uri": "https://localhost:8080/"
        },
        "outputId": "a99bcd4e-b8d5-45c9-d2e4-ef55ce376f87"
      },
      "execution_count": 12,
      "outputs": [
        {
          "output_type": "stream",
          "name": "stdout",
          "text": [
            "Drive already mounted at /content/drive; to attempt to forcibly remount, call drive.mount(\"/content/drive\", force_remount=True).\n"
          ]
        }
      ]
    },
    {
      "cell_type": "code",
      "source": [
        "model_data = pd.read_csv('/content/drive/MyDrive/AML Project/fj.csv', index_col = 0,  encoding='utf-8')\n",
        "\n",
        "indices = model_data.groupby(\"company_profile\").apply(lambda x: [i for i in x.index])\n",
        "indices.reset_index()\n",
        "\n",
        "model_data.drop(['job_id','title','salary_range','description','requirements','benefits','company_profile','posting'], axis = 1, inplace = True)\n",
        "\n",
        "# Get number of unique countries\n",
        "def getCountry(location):\n",
        "  return str(location).split(',')[0]\n",
        "\n",
        "model_data['country'] = model_data['location'].map(getCountry)\n",
        "countries = model_data['country'].value_counts()\n",
        "print('The number of unique values in the \"country\" field is: {}'.format(len(model_data['country'].value_counts())))\n",
        "model_data.drop(columns = 'location', axis = 1, inplace = True)\n",
        "\n",
        "# one-hot encoding categorical variables\n",
        "categorical_cols = ['country', 'department', 'employment_type', 'required_experience', 'required_education', 'industry', 'function'] \n",
        "model_data = pd.get_dummies(model_data, columns = categorical_cols)\n",
        "\n",
        "y = model_data[\"fraudulent\"]\n",
        "X = model_data.drop('fraudulent', axis = 'columns')\n",
        "\n",
        "indices_tf = y[[i[0]for i in indices]]\n",
        "\n",
        "train_idx, test_idx = train_test_split(indices, stratify = indices_tf, test_size=0.20, random_state = 422)\n",
        "\n",
        "train_idx = np.hstack(train_idx.apply(np.array).values)\n",
        "test_idx = np.hstack(test_idx.apply(np.array).values)\n",
        "\n",
        "train_idx.sort()\n",
        "train_idx\n",
        "\n",
        "X_train = X.loc[train_idx] \n",
        "X_test = X.loc[test_idx]\n",
        "\n",
        "y_train = y[train_idx]\n",
        "y_test = y[test_idx]"
      ],
      "metadata": {
        "id": "UhtgkucwFGIa",
        "colab": {
          "base_uri": "https://localhost:8080/"
        },
        "outputId": "8ec27a9a-7dea-4f70-b1f3-bd198d207efc"
      },
      "execution_count": 13,
      "outputs": [
        {
          "output_type": "stream",
          "name": "stdout",
          "text": [
            "The number of unique values in the \"country\" field is: 91\n"
          ]
        }
      ]
    },
    {
      "cell_type": "markdown",
      "source": [
        "# With Pipeline"
      ],
      "metadata": {
        "id": "Jj4f8BV5GC7K"
      }
    },
    {
      "cell_type": "code",
      "source": [
        "classifier = AdaBoostClassifier()\n",
        "\n",
        "smt = SMOTE(random_state=420)\n",
        "\n",
        "# defining the pipeline\n",
        "pipeline = Pipeline(steps = [['smote', smt],['classifier', classifier]])"
      ],
      "metadata": {
        "id": "vOQWgVndFGK_"
      },
      "execution_count": 14,
      "outputs": []
    },
    {
      "cell_type": "code",
      "source": [
        "# fitting the pipeline and printing results\n",
        "pipeline.fit(X_train, y_train) \n",
        "y_hat = pipeline.predict(X_test)\n",
        "y_pred_proba = pipeline.predict_proba(X_test)\n",
        "print(classification_report(y_test,y_hat))"
      ],
      "metadata": {
        "id": "fUAeDIMjGBH2",
        "colab": {
          "base_uri": "https://localhost:8080/"
        },
        "outputId": "3cc3f737-c961-4d5a-b68f-5ccec11ae88c"
      },
      "execution_count": 15,
      "outputs": [
        {
          "output_type": "stream",
          "name": "stdout",
          "text": [
            "              precision    recall  f1-score   support\n",
            "\n",
            "           0       0.98      0.97      0.97      2976\n",
            "           1       0.13      0.17      0.15        76\n",
            "\n",
            "    accuracy                           0.95      3052\n",
            "   macro avg       0.55      0.57      0.56      3052\n",
            "weighted avg       0.96      0.95      0.95      3052\n",
            "\n"
          ]
        }
      ]
    },
    {
      "cell_type": "code",
      "source": [
        "print(confusion_matrix(y_test, y_hat))"
      ],
      "metadata": {
        "id": "yECQ6j-KFGNl",
        "colab": {
          "base_uri": "https://localhost:8080/"
        },
        "outputId": "81d52036-f84b-41e6-9589-463a0f3d1c14"
      },
      "execution_count": 16,
      "outputs": [
        {
          "output_type": "stream",
          "name": "stdout",
          "text": [
            "[[2890   86]\n",
            " [  63   13]]\n"
          ]
        }
      ]
    },
    {
      "cell_type": "code",
      "source": [
        "RocCurveDisplay.from_predictions(y_test, y_pred_proba[:, 1], color='royalblue')"
      ],
      "metadata": {
        "id": "GG7HQDJ5Fd9l",
        "colab": {
          "base_uri": "https://localhost:8080/",
          "height": 296
        },
        "outputId": "548c2e0e-5c4b-4f00-87e6-b94c4541e6c8"
      },
      "execution_count": 17,
      "outputs": [
        {
          "output_type": "execute_result",
          "data": {
            "text/plain": [
              "<sklearn.metrics._plot.roc_curve.RocCurveDisplay at 0x7fe6b1d0b730>"
            ]
          },
          "metadata": {},
          "execution_count": 17
        },
        {
          "output_type": "display_data",
          "data": {
            "text/plain": [
              "<Figure size 432x288 with 1 Axes>"
            ],
            "image/png": "[encoded data removed]"
          },
          "metadata": {
            "needs_background": "light"
          }
        }
      ]
    },
    {
      "cell_type": "markdown",
      "source": [
        "# With GridSearch"
      ],
      "metadata": {
        "id": "vGvz7upLGHPw"
      }
    },
    {
      "cell_type": "code",
      "source": [
        "# Defining classifier - AdaBoost\n",
        "\n",
        "DTC = DecisionTreeClassifier(random_state = 11,max_depth = None)\n",
        "\n",
        "\n",
        "\n",
        "classifier = AdaBoostClassifier(base_estimator = DTC)\n",
        "\n",
        "\n",
        "param_grid = {'base_estimator__max_depth':[i for i in [1,2,3,4]],\n",
        "              'n_estimators':[500,1000],\n",
        "              \"random_state\": [420],\n",
        "              'learning_rate':[0.01,0.1]}\n",
        "\n",
        "# Grid search\n",
        "ada_grid = GridSearchCV(classifier, param_grid, refit = True, verbose = 3,n_jobs=-1) \n",
        "   \n",
        "# fitting the model for grid search \n",
        "ada_grid.fit(X_train, y_train) \n",
        " \n",
        "# print best parameter after tuning \n",
        "print('Best parameters : ',ada_grid.best_params_) \n",
        "y_hat = ada_grid.predict(X_test) \n",
        "y_pred_proba = ada_grid.predict_proba(X_test)\n",
        "print(classification_report(y_test,y_hat))"
      ],
      "metadata": {
        "id": "r_s0EWP2FeqT",
        "colab": {
          "base_uri": "https://localhost:8080/"
        },
        "outputId": "b3a1052c-a302-40d8-cf5f-66e157fca5fe"
      },
      "execution_count": 18,
      "outputs": [
        {
          "output_type": "stream",
          "name": "stdout",
          "text": [
            "Fitting 5 folds for each of 16 candidates, totalling 80 fits\n",
            "Best parameters :  {'base_estimator__max_depth': 3, 'learning_rate': 0.1, 'n_estimators': 1000, 'random_state': 420}\n",
            "              precision    recall  f1-score   support\n",
            "\n",
            "           0       0.98      0.99      0.99      2976\n",
            "           1       0.66      0.38      0.48        76\n",
            "\n",
            "    accuracy                           0.98      3052\n",
            "   macro avg       0.82      0.69      0.74      3052\n",
            "weighted avg       0.98      0.98      0.98      3052\n",
            "\n"
          ]
        }
      ]
    },
    {
      "cell_type": "code",
      "source": [
        "print(confusion_matrix(y_test, y_hat))"
      ],
      "metadata": {
        "id": "zDkRE75qFewW",
        "colab": {
          "base_uri": "https://localhost:8080/"
        },
        "outputId": "84c76ff7-b716-47e7-d66e-ac2e3319d27b"
      },
      "execution_count": 19,
      "outputs": [
        {
          "output_type": "stream",
          "name": "stdout",
          "text": [
            "[[2961   15]\n",
            " [  47   29]]\n"
          ]
        }
      ]
    },
    {
      "cell_type": "code",
      "source": [
        "# ROC Curve\n",
        "RocCurveDisplay.from_predictions(y_test, y_pred_proba[:, 1], color='yellowgreen')"
      ],
      "metadata": {
        "id": "N9t8UP86FfJh",
        "colab": {
          "base_uri": "https://localhost:8080/",
          "height": 296
        },
        "outputId": "024f0613-d151-4532-b079-1c78c0966ff6"
      },
      "execution_count": 21,
      "outputs": [
        {
          "output_type": "execute_result",
          "data": {
            "text/plain": [
              "<sklearn.metrics._plot.roc_curve.RocCurveDisplay at 0x7fe6b2010cd0>"
            ]
          },
          "metadata": {},
          "execution_count": 21
        },
        {
          "output_type": "display_data",
          "data": {
            "text/plain": [
              "<Figure size 432x288 with 1 Axes>"
            ],
            "image/png": "[encoded data removed]"
          },
          "metadata": {
            "needs_background": "light"
          }
        }
      ]
    },
    {
      "cell_type": "code",
      "source": [
        "# Precision vs Recall Curve\n",
        "from sklearn.metrics import PrecisionRecallDisplay\n",
        "\n",
        "PrecisionRecallDisplay.from_predictions(y_test, y_pred_proba[:, 1], color='yellowgreen')"
      ],
      "metadata": {
        "id": "VIOl59cFFGQ_",
        "colab": {
          "base_uri": "https://localhost:8080/",
          "height": 296
        },
        "outputId": "ab070ab1-70a6-42e3-a232-413fa15433b8"
      },
      "execution_count": 22,
      "outputs": [
        {
          "output_type": "execute_result",
          "data": {
            "text/plain": [
              "<sklearn.metrics._plot.precision_recall_curve.PrecisionRecallDisplay at 0x7fe6b1b8beb0>"
            ]
          },
          "metadata": {},
          "execution_count": 22
        },
        {
          "output_type": "display_data",
          "data": {
            "text/plain": [
              "<Figure size 432x288 with 1 Axes>"
            ],
            "image/png": "[encoded data removed]"
          },
          "metadata": {
            "needs_background": "light"
          }
        }
      ]
    },
    {
      "cell_type": "code",
      "source": [],
      "metadata": {
        "id": "iU5qenUhKtu3"
      },
      "execution_count": null,
      "outputs": []
    }
  ]
}