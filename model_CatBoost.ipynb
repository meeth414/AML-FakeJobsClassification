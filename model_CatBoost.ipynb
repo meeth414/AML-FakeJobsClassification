{
  "nbformat": 4,
  "nbformat_minor": 0,
  "metadata": {
    "colab": {
      "provenance": []
    },
    "kernelspec": {
      "name": "python3",
      "display_name": "Python 3"
    },
    "language_info": {
      "name": "python"
    }
  },
  "cells": [
    {
      "cell_type": "markdown",
      "source": [
        "# CatBoost"
      ],
      "metadata": {
        "id": "sT87cQavpYj8"
      }
    },
    {
      "cell_type": "code",
      "execution_count": 1,
      "metadata": {
        "colab": {
          "base_uri": "https://localhost:8080/"
        },
        "id": "6Ryc5ApnpR_K",
        "outputId": "57f3fe7b-c914-472f-f336-e663a0fdfe81"
      },
      "outputs": [
        {
          "output_type": "stream",
          "name": "stdout",
          "text": [
            "Looking in indexes: https://pypi.org/simple, https://us-python.pkg.dev/colab-wheels/public/simple/\n",
            "Collecting catboost\n",
            "  Downloading catboost-1.1.1-cp38-none-manylinux1_x86_64.whl (76.6 MB)\n",
            "\u001b[K     |████████████████████████████████| 76.6 MB 23 kB/s \n",
            "\u001b[?25hRequirement already satisfied: scipy in /usr/local/lib/python3.8/dist-packages (from catboost) (1.7.3)\n",
            "Requirement already satisfied: pandas>=0.24.0 in /usr/local/lib/python3.8/dist-packages (from catboost) (1.3.5)\n",
            "Requirement already satisfied: plotly in /usr/local/lib/python3.8/dist-packages (from catboost) (5.5.0)\n",
            "Requirement already satisfied: six in /usr/local/lib/python3.8/dist-packages (from catboost) (1.15.0)\n",
            "Requirement already satisfied: matplotlib in /usr/local/lib/python3.8/dist-packages (from catboost) (3.2.2)\n",
            "Requirement already satisfied: graphviz in /usr/local/lib/python3.8/dist-packages (from catboost) (0.10.1)\n",
            "Requirement already satisfied: numpy>=1.16.0 in /usr/local/lib/python3.8/dist-packages (from catboost) (1.21.6)\n",
            "Requirement already satisfied: pytz>=2017.3 in /usr/local/lib/python3.8/dist-packages (from pandas>=0.24.0->catboost) (2022.6)\n",
            "Requirement already satisfied: python-dateutil>=2.7.3 in /usr/local/lib/python3.8/dist-packages (from pandas>=0.24.0->catboost) (2.8.2)\n",
            "Requirement already satisfied: kiwisolver>=1.0.1 in /usr/local/lib/python3.8/dist-packages (from matplotlib->catboost) (1.4.4)\n",
            "Requirement already satisfied: pyparsing!=2.0.4,!=2.1.2,!=2.1.6,>=2.0.1 in /usr/local/lib/python3.8/dist-packages (from matplotlib->catboost) (3.0.9)\n",
            "Requirement already satisfied: cycler>=0.10 in /usr/local/lib/python3.8/dist-packages (from matplotlib->catboost) (0.11.0)\n",
            "Requirement already satisfied: tenacity>=6.2.0 in /usr/local/lib/python3.8/dist-packages (from plotly->catboost) (8.1.0)\n",
            "Installing collected packages: catboost\n",
            "Successfully installed catboost-1.1.1\n"
          ]
        },
        {
          "output_type": "stream",
          "name": "stderr",
          "text": [
            "[nltk_data] Downloading package stopwords to /root/nltk_data...\n",
            "[nltk_data]   Unzipping corpora/stopwords.zip.\n",
            "[nltk_data] Downloading package punkt to /root/nltk_data...\n",
            "[nltk_data]   Unzipping tokenizers/punkt.zip.\n"
          ]
        },
        {
          "output_type": "execute_result",
          "data": {
            "text/plain": [
              "True"
            ]
          },
          "metadata": {},
          "execution_count": 1
        }
      ],
      "source": [
        "import pandas as pd\n",
        "import matplotlib.pyplot as plt\n",
        "from textblob import TextBlob\n",
        "import numpy as np\n",
        "from nltk import word_tokenize\n",
        "from nltk.corpus import stopwords\n",
        "from nltk.tokenize import word_tokenize\n",
        "import nltk\n",
        "from sklearn.model_selection import train_test_split\n",
        "from imblearn.over_sampling import SMOTE\n",
        "from imblearn.pipeline import Pipeline\n",
        "from sklearn.preprocessing import StandardScaler\n",
        "from sklearn.linear_model import LogisticRegression\n",
        "from imblearn.over_sampling import SMOTENC\n",
        "from sklearn.metrics import classification_report\n",
        "!pip install catboost\n",
        "from catboost import CatBoostClassifier\n",
        "from sklearn.metrics import ConfusionMatrixDisplay, confusion_matrix, accuracy_score, precision_score, recall_score, f1_score, PrecisionRecallDisplay, plot_roc_curve\n",
        "nltk.download('stopwords')\n",
        "nltk.download('punkt')"
      ]
    },
    {
      "cell_type": "code",
      "source": [
        "from google.colab import drive\n",
        "drive.mount('/content/drive')"
      ],
      "metadata": {
        "colab": {
          "base_uri": "https://localhost:8080/"
        },
        "id": "tFcrmT71pl0b",
        "outputId": "35889aaa-621a-4821-dd01-96ef5eddb6a4"
      },
      "execution_count": 2,
      "outputs": [
        {
          "output_type": "stream",
          "name": "stdout",
          "text": [
            "Mounted at /content/drive\n"
          ]
        }
      ]
    },
    {
      "cell_type": "markdown",
      "source": [
        "## Read In Data"
      ],
      "metadata": {
        "id": "PyzBIsz_pc49"
      }
    },
    {
      "cell_type": "code",
      "source": [
        "# READ IN DATA\n",
        "model_data_raw = pd.read_csv('fj.csv', index_col = 0)\n"
      ],
      "metadata": {
        "id": "zu9VNG9CpbRZ"
      },
      "execution_count": 3,
      "outputs": []
    },
    {
      "cell_type": "markdown",
      "source": [
        "## Prepare Data For Model"
      ],
      "metadata": {
        "id": "m1Zm_Ajhpw97"
      }
    },
    {
      "cell_type": "code",
      "source": [
        "model_data_catboost = model_data_raw.copy()\n",
        "\n",
        "# Get number of unique countries\n",
        "def getCountry(location):\n",
        "    return str(location).split(',')[0]\n",
        "\n",
        "model_data_catboost['country'] = model_data_catboost['location'].map(getCountry)\n",
        "\n",
        "# droping unstructured columns\n",
        "model_data_catboost.drop(['job_id','title','salary_range','description','requirements','benefits','company_profile','posting', 'location'], axis = 1, inplace = True)\n",
        "\n",
        "# splitting data into train and test\n",
        "X = model_data_catboost.drop('fraudulent', axis = 'columns')\n",
        "y = model_data_catboost['fraudulent']\n",
        "X_train, X_test, y_train, y_test = train_test_split(X, y,\n",
        "                                                    stratify=y, \n",
        "                                                    test_size=0.20,\n",
        "                                                    random_state = 420)\n",
        "\n",
        "# categorical features\n",
        "cat_features = ['country', 'department', 'employment_type', 'required_experience', 'required_education', 'industry', 'function']\n",
        "cat_features_index = []\n",
        "for cat_feature in cat_features:\n",
        "    cat_features_index.append(X_train.columns.get_loc(cat_feature))"
      ],
      "metadata": {
        "id": "pzz4yjjHpxhi"
      },
      "execution_count": 4,
      "outputs": []
    },
    {
      "cell_type": "markdown",
      "source": [
        "## Gridsearch for CatBoost"
      ],
      "metadata": {
        "id": "04KuEcNSp4DH"
      }
    },
    {
      "cell_type": "code",
      "source": [
        "# Source 1: https://catboost.ai/en/docs/concepts/python-usages-examples\n",
        "# Source 2: https://www.analyticsvidhya.com/blog/2017/08/catboost-automated-categorical-data/\n",
        "# Source 3: https://catboost.ai/en/docs/concepts/python-reference_catboost_grid_search#output-format\n",
        "\n",
        "classifier = CatBoostClassifier(cat_features=cat_features_index)\n",
        "\n",
        "grid = {'learning_rate': [0.01, 0.03, 0.1],\n",
        "        'iterations': [30, 50, 90],\n",
        "        'depth': [3, 6, 10],\n",
        "        'l2_leaf_reg': [1, 3, 5, 7, 9],\n",
        "        'one_hot_max_size': [10, 50, 100, 150]}\n",
        "\n",
        "grid_search_result = classifier.grid_search(grid, \n",
        "                                       X=X_train, \n",
        "                                       y=y_train, \n",
        "                                       plot=True)"
      ],
      "metadata": {
        "id": "yzFfe_wFp0TH"
      },
      "execution_count": null,
      "outputs": []
    },
    {
      "cell_type": "markdown",
      "source": [
        "## Gridsearch Results"
      ],
      "metadata": {
        "id": "_OAwI6qup7Kf"
      }
    },
    {
      "cell_type": "code",
      "source": [
        "\"\"\"\n",
        "{'depth': 10,\n",
        " 'one_hot_max_size': 100,\n",
        " 'l2_leaf_reg': 3,\n",
        " 'iterations': 90,\n",
        " 'learning_rate': 0.1}\n",
        "\"\"\"\n",
        "\"\"\"\n",
        "best_depth = 10\n",
        "best_OHMS = 100\n",
        "best_12leaf = 3\n",
        "best_iterations = 90\n",
        "best_learning_rate = 0.1\n",
        "\"\"\"\n",
        "grid_search_result\n",
        "best_depth = grid_search_result['params']['depth']\n",
        "best_OHMS = grid_search_result['params']['one_hot_max_size']\n",
        "best_12leaf = grid_search_result['params']['l2_leaf_reg']\n",
        "best_iterations = grid_search_result['params']['iterations']\n",
        "best_learning_rate = grid_search_result['params']['learning_rate']\n",
        "grid_search_result['params']\n",
        "\n"
      ],
      "metadata": {
        "id": "o6JECtHjp_vY"
      },
      "execution_count": 6,
      "outputs": []
    },
    {
      "cell_type": "markdown",
      "source": [
        "## Run CatBoost Classifier\n",
        "With the tuned parameters"
      ],
      "metadata": {
        "id": "SpmqnvSGqT9t"
      }
    },
    {
      "cell_type": "code",
      "source": [
        "# defining classifier\n",
        "classifier = CatBoostClassifier(iterations=best_iterations, depth=best_depth, learning_rate=best_learning_rate, l2_leaf_reg=best_12leaf, cat_features=cat_features_index, one_hot_max_size=best_OHMS)\n",
        "\n",
        "# Fit model\n",
        "classifier.fit(X_train, y_train, silent=True)\n",
        "# Get predicted classes\n",
        "y_hat = classifier.predict(X_test)\n",
        "# Get predicted probabilities for each class\n",
        "y_pred_proba = classifier.predict_proba(X_test)\n",
        "# Get predicted RawFormulaVal\n",
        "preds_raw = classifier.predict(X_test, prediction_type='RawFormulaVal')\n",
        "\n",
        "# Find errors\n",
        "results_report = classification_report(y_test,y_hat)\n",
        "\n",
        "# Confusion Matrix\n",
        "print(confusion_matrix(y_test, y_hat))\n",
        "\n",
        "# Accuracy Score\n",
        "print(\"Accuracy Score: {}\".format(accuracy_score(y_test, y_hat)))\n",
        "\n",
        "# Precision Score\n",
        "print(\"Precision Score: {}\".format(precision_score(y_test, y_hat)))\n",
        "\n",
        "# Recall Score\n",
        "print(\"Recall Score: {}\".format(recall_score(y_test, y_hat)))\n",
        "\n",
        "# F1 Score\n",
        "print(\"F1 Score: {}\".format(f1_score(y_test, y_hat)))\n",
        "\n",
        "print(results_report)"
      ],
      "metadata": {
        "colab": {
          "base_uri": "https://localhost:8080/"
        },
        "id": "rvEGm0RcqGWO",
        "outputId": "6e2a7552-a7ee-4eb7-880e-ff3ea4a0d697"
      },
      "execution_count": 7,
      "outputs": [
        {
          "output_type": "stream",
          "name": "stdout",
          "text": [
            "[[3399    4]\n",
            " [  58  115]]\n",
            "Accuracy Score: 0.982662192393736\n",
            "Precision Score: 0.9663865546218487\n",
            "Recall Score: 0.6647398843930635\n",
            "F1 Score: 0.7876712328767123\n",
            "              precision    recall  f1-score   support\n",
            "\n",
            "           0       0.98      1.00      0.99      3403\n",
            "           1       0.97      0.66      0.79       173\n",
            "\n",
            "    accuracy                           0.98      3576\n",
            "   macro avg       0.97      0.83      0.89      3576\n",
            "weighted avg       0.98      0.98      0.98      3576\n",
            "\n"
          ]
        }
      ]
    },
    {
      "cell_type": "markdown",
      "source": [
        "## Plots"
      ],
      "metadata": {
        "id": "Ipkdx190qbDK"
      }
    },
    {
      "cell_type": "code",
      "source": [
        "# ROC Curve\n",
        "from sklearn.metrics import RocCurveDisplay\n",
        "\n",
        "RocCurveDisplay.from_predictions(y_test, y_pred_proba[:, 1], color='yellowgreen')"
      ],
      "metadata": {
        "colab": {
          "base_uri": "https://localhost:8080/",
          "height": 296
        },
        "id": "yAyg3ndHqcl-",
        "outputId": "1bfe630e-3dde-4137-cdc5-f643108bcb28"
      },
      "execution_count": 8,
      "outputs": [
        {
          "output_type": "execute_result",
          "data": {
            "text/plain": [
              "<sklearn.metrics._plot.roc_curve.RocCurveDisplay at 0x7fc3d9a44430>"
            ]
          },
          "metadata": {},
          "execution_count": 8
        },
        {
          "output_type": "display_data",
          "data": {
            "text/plain": [
              "<Figure size 432x288 with 1 Axes>"
            ],
            "image/png": "[encoded data removed]"
          },
          "metadata": {
            "needs_background": "light"
          }
        }
      ]
    },
    {
      "cell_type": "code",
      "source": [
        "# Precision vs Recall Curve\n",
        "from sklearn.metrics import PrecisionRecallDisplay\n",
        "\n",
        "PrecisionRecallDisplay.from_predictions(y_test, y_pred_proba[:, 1], color='yellowgreen')"
      ],
      "metadata": {
        "colab": {
          "base_uri": "https://localhost:8080/",
          "height": 296
        },
        "id": "GO9zwRBAqd_L",
        "outputId": "1bfdb3d8-387a-463d-cd3a-e30f9fb2a79a"
      },
      "execution_count": 9,
      "outputs": [
        {
          "output_type": "execute_result",
          "data": {
            "text/plain": [
              "<sklearn.metrics._plot.precision_recall_curve.PrecisionRecallDisplay at 0x7fc3d8773b20>"
            ]
          },
          "metadata": {},
          "execution_count": 9
        },
        {
          "output_type": "display_data",
          "data": {
            "text/plain": [
              "<Figure size 432x288 with 1 Axes>"
            ],
            "image/png": "[encoded data removed]"
          },
          "metadata": {
            "needs_background": "light"
          }
        }
      ]
    },
    {
      "cell_type": "code",
      "source": [
        "# Calibration Curve\n",
        "\n",
        "from sklearn.calibration import calibration_curve\n",
        "import matplotlib.pyplot as plt\n",
        "\n",
        "# Strategy Uniform\n",
        "prob_true1, prob_pred1 = calibration_curve(y_test, y_pred_proba[:,1], strategy = 'uniform')\n",
        "\n",
        "# Strategy Quantile\n",
        "prob_true2, prob_pred2 = calibration_curve(y_test, y_pred_proba[:,1], strategy = 'quantile')\n",
        "\n",
        "plt.plot(prob_pred1, prob_true1, label='Strategy: Uniform', color='yellowgreen')\n",
        "plt.plot(prob_pred2, prob_true2, label='Strategy: Quantile', color='darkolivegreen')\n",
        "plt.ylabel('True')\n",
        "plt.xlabel('Prediction')\n",
        "plt.legend(loc='best')\n",
        "plt.show()"
      ],
      "metadata": {
        "colab": {
          "base_uri": "https://localhost:8080/",
          "height": 279
        },
        "id": "QqihGBpvqfOi",
        "outputId": "acfbf2a3-90ea-4e26-fccb-a780f4b5930c"
      },
      "execution_count": 10,
      "outputs": [
        {
          "output_type": "display_data",
          "data": {
            "text/plain": [
              "<Figure size 432x288 with 1 Axes>"
            ],
            "image/png": "[encoded data removed]"
          },
          "metadata": {
            "needs_background": "light"
          }
        }
      ]
    },
    {
      "cell_type": "code",
      "source": [],
      "metadata": {
        "id": "4VB6vCs6qg-e"
      },
      "execution_count": null,
      "outputs": []
    }
  ]
}
